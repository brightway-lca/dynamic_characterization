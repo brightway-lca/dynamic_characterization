{
 "cells": [
  {
   "cell_type": "markdown",
   "metadata": {},
   "source": [
    "### test GTP"
   ]
  },
  {
   "cell_type": "markdown",
   "metadata": {},
   "source": [
    "### 1) Use package as standalone"
   ]
  },
  {
   "cell_type": "markdown",
   "metadata": {},
   "source": [
    "Test with single emission\n",
    "\n",
    "\n",
    "| date | amount | flow | activity |\n",
    "|-------|-------|------|----------|\n",
    "| 15-12-2020   | 10    | 1 (CO2)   | 2        |\n"
   ]
  },
  {
   "cell_type": "code",
   "execution_count": 14,
   "metadata": {},
   "outputs": [],
   "source": [
    "import pandas as pd\n",
    "import numpy as np\n",
    "\n",
    "# defining a dummy dynamic inventory from above\n",
    "dynamic_inventory_df = pd.DataFrame(\n",
    "        data={\n",
    "            \"date\": pd.Series(\n",
    "                data=[\n",
    "                    \"15-12-2020\",\n",
    "                    \"20-12-2020\",\n",
    "                    #\"25-05-2022\",\n",
    "                ],\n",
    "                dtype=\"datetime64[s]\",\n",
    "            ),\n",
    "            \"amount\": pd.Series(data=[1, 15], dtype=\"float64\"),\n",
    "            \"flow\": pd.Series(data=[2,1 ], dtype=\"int\"),\n",
    "            \"activity\": pd.Series(data=[2, 2], dtype=\"int\"),\n",
    "        }\n",
    "    )"
   ]
  },
  {
   "cell_type": "code",
   "execution_count": 15,
   "metadata": {},
   "outputs": [
    {
     "data": {
      "text/html": [
       "<div>\n",
       "<style scoped>\n",
       "    .dataframe tbody tr th:only-of-type {\n",
       "        vertical-align: middle;\n",
       "    }\n",
       "\n",
       "    .dataframe tbody tr th {\n",
       "        vertical-align: top;\n",
       "    }\n",
       "\n",
       "    .dataframe thead th {\n",
       "        text-align: right;\n",
       "    }\n",
       "</style>\n",
       "<table border=\"1\" class=\"dataframe\">\n",
       "  <thead>\n",
       "    <tr style=\"text-align: right;\">\n",
       "      <th></th>\n",
       "      <th>date</th>\n",
       "      <th>amount</th>\n",
       "      <th>flow</th>\n",
       "      <th>activity</th>\n",
       "    </tr>\n",
       "  </thead>\n",
       "  <tbody>\n",
       "    <tr>\n",
       "      <th>0</th>\n",
       "      <td>2020-12-15</td>\n",
       "      <td>1.0</td>\n",
       "      <td>2</td>\n",
       "      <td>2</td>\n",
       "    </tr>\n",
       "    <tr>\n",
       "      <th>1</th>\n",
       "      <td>2020-12-20</td>\n",
       "      <td>15.0</td>\n",
       "      <td>1</td>\n",
       "      <td>2</td>\n",
       "    </tr>\n",
       "  </tbody>\n",
       "</table>\n",
       "</div>"
      ],
      "text/plain": [
       "        date  amount  flow  activity\n",
       "0 2020-12-15     1.0     2         2\n",
       "1 2020-12-20    15.0     1         2"
      ]
     },
     "execution_count": 15,
     "metadata": {},
     "output_type": "execute_result"
    }
   ],
   "source": [
    "dynamic_inventory_df"
   ]
  },
  {
   "cell_type": "code",
   "execution_count": 16,
   "metadata": {},
   "outputs": [],
   "source": [
    "from dynamic_characterization import characterize\n",
    "from dynamic_characterization.ipcc_ar6 import characterize_co2, characterize_ch4\n",
    "\n",
    "df_characterized = characterize(\n",
    "        dynamic_inventory_df,\n",
    "        metric=\"AGTP\", # could also be GWP\n",
    "        characterization_function_dict={\n",
    "            1: characterize_co2,\n",
    "            2: characterize_ch4,\n",
    "        },\n",
    "        time_horizon=100, #years\n",
    "    )"
   ]
  },
  {
   "cell_type": "code",
   "execution_count": 17,
   "metadata": {},
   "outputs": [
    {
     "data": {
      "text/html": [
       "<div>\n",
       "<style scoped>\n",
       "    .dataframe tbody tr th:only-of-type {\n",
       "        vertical-align: middle;\n",
       "    }\n",
       "\n",
       "    .dataframe tbody tr th {\n",
       "        vertical-align: top;\n",
       "    }\n",
       "\n",
       "    .dataframe thead th {\n",
       "        text-align: right;\n",
       "    }\n",
       "</style>\n",
       "<table border=\"1\" class=\"dataframe\">\n",
       "  <thead>\n",
       "    <tr style=\"text-align: right;\">\n",
       "      <th></th>\n",
       "      <th>date</th>\n",
       "      <th>amount</th>\n",
       "      <th>flow</th>\n",
       "      <th>activity</th>\n",
       "    </tr>\n",
       "  </thead>\n",
       "  <tbody>\n",
       "    <tr>\n",
       "      <th>0</th>\n",
       "      <td>2021-12-15 05:49:12</td>\n",
       "      <td>1.463861e-13</td>\n",
       "      <td>2</td>\n",
       "      <td>2</td>\n",
       "    </tr>\n",
       "    <tr>\n",
       "      <th>1</th>\n",
       "      <td>2021-12-20 05:49:12</td>\n",
       "      <td>1.881620e-14</td>\n",
       "      <td>1</td>\n",
       "      <td>2</td>\n",
       "    </tr>\n",
       "    <tr>\n",
       "      <th>2</th>\n",
       "      <td>2022-12-15 11:38:24</td>\n",
       "      <td>1.343458e-13</td>\n",
       "      <td>2</td>\n",
       "      <td>2</td>\n",
       "    </tr>\n",
       "    <tr>\n",
       "      <th>3</th>\n",
       "      <td>2022-12-20 11:38:24</td>\n",
       "      <td>1.764404e-14</td>\n",
       "      <td>1</td>\n",
       "      <td>2</td>\n",
       "    </tr>\n",
       "    <tr>\n",
       "      <th>4</th>\n",
       "      <td>2023-12-15 17:27:36</td>\n",
       "      <td>1.232954e-13</td>\n",
       "      <td>2</td>\n",
       "      <td>2</td>\n",
       "    </tr>\n",
       "    <tr>\n",
       "      <th>...</th>\n",
       "      <td>...</td>\n",
       "      <td>...</td>\n",
       "      <td>...</td>\n",
       "      <td>...</td>\n",
       "    </tr>\n",
       "    <tr>\n",
       "      <th>193</th>\n",
       "      <td>2117-12-20 12:32:24</td>\n",
       "      <td>2.155248e-15</td>\n",
       "      <td>1</td>\n",
       "      <td>2</td>\n",
       "    </tr>\n",
       "    <tr>\n",
       "      <th>194</th>\n",
       "      <td>2118-12-15 18:21:36</td>\n",
       "      <td>7.444210e-18</td>\n",
       "      <td>2</td>\n",
       "      <td>2</td>\n",
       "    </tr>\n",
       "    <tr>\n",
       "      <th>195</th>\n",
       "      <td>2118-12-20 18:21:36</td>\n",
       "      <td>1.515573e-15</td>\n",
       "      <td>1</td>\n",
       "      <td>2</td>\n",
       "    </tr>\n",
       "    <tr>\n",
       "      <th>196</th>\n",
       "      <td>2119-12-16 00:10:48</td>\n",
       "      <td>3.620084e-18</td>\n",
       "      <td>2</td>\n",
       "      <td>2</td>\n",
       "    </tr>\n",
       "    <tr>\n",
       "      <th>197</th>\n",
       "      <td>2119-12-21 00:10:48</td>\n",
       "      <td>8.003051e-16</td>\n",
       "      <td>1</td>\n",
       "      <td>2</td>\n",
       "    </tr>\n",
       "  </tbody>\n",
       "</table>\n",
       "<p>198 rows × 4 columns</p>\n",
       "</div>"
      ],
      "text/plain": [
       "                   date        amount  flow  activity\n",
       "0   2021-12-15 05:49:12  1.463861e-13     2         2\n",
       "1   2021-12-20 05:49:12  1.881620e-14     1         2\n",
       "2   2022-12-15 11:38:24  1.343458e-13     2         2\n",
       "3   2022-12-20 11:38:24  1.764404e-14     1         2\n",
       "4   2023-12-15 17:27:36  1.232954e-13     2         2\n",
       "..                  ...           ...   ...       ...\n",
       "193 2117-12-20 12:32:24  2.155248e-15     1         2\n",
       "194 2118-12-15 18:21:36  7.444210e-18     2         2\n",
       "195 2118-12-20 18:21:36  1.515573e-15     1         2\n",
       "196 2119-12-16 00:10:48  3.620084e-18     2         2\n",
       "197 2119-12-21 00:10:48  8.003051e-16     1         2\n",
       "\n",
       "[198 rows x 4 columns]"
      ]
     },
     "execution_count": 17,
     "metadata": {},
     "output_type": "execute_result"
    }
   ],
   "source": [
    "df_characterized #[K]"
   ]
  },
  {
   "cell_type": "code",
   "execution_count": 18,
   "metadata": {},
   "outputs": [
    {
     "data": {
      "text/plain": [
       "2.6811424701481627e-12"
      ]
     },
     "execution_count": 18,
     "metadata": {},
     "output_type": "execute_result"
    },
    {
     "data": {
      "image/png": "[encoded data removed]",
      "text/plain": [
       "<Figure size 640x480 with 1 Axes>"
      ]
     },
     "metadata": {},
     "output_type": "display_data"
    }
   ],
   "source": [
    "df_characterized.plot(x=\"date\", y=\"amount\", kind=\"scatter\", title=\"CO2 agtp\")\n",
    "df_characterized[\"amount\"].sum()  "
   ]
  },
  {
   "cell_type": "code",
   "execution_count": 19,
   "metadata": {},
   "outputs": [
    {
     "data": {
      "text/html": [
       "<div>\n",
       "<style scoped>\n",
       "    .dataframe tbody tr th:only-of-type {\n",
       "        vertical-align: middle;\n",
       "    }\n",
       "\n",
       "    .dataframe tbody tr th {\n",
       "        vertical-align: top;\n",
       "    }\n",
       "\n",
       "    .dataframe thead th {\n",
       "        text-align: right;\n",
       "    }\n",
       "</style>\n",
       "<table border=\"1\" class=\"dataframe\">\n",
       "  <thead>\n",
       "    <tr style=\"text-align: right;\">\n",
       "      <th></th>\n",
       "      <th>date</th>\n",
       "      <th>amount</th>\n",
       "      <th>flow</th>\n",
       "      <th>activity</th>\n",
       "    </tr>\n",
       "  </thead>\n",
       "  <tbody>\n",
       "    <tr>\n",
       "      <th>0</th>\n",
       "      <td>2020-12-15</td>\n",
       "      <td>29.517702</td>\n",
       "      <td>2</td>\n",
       "      <td>2</td>\n",
       "    </tr>\n",
       "    <tr>\n",
       "      <th>1</th>\n",
       "      <td>2020-12-20</td>\n",
       "      <td>15.000000</td>\n",
       "      <td>1</td>\n",
       "      <td>2</td>\n",
       "    </tr>\n",
       "  </tbody>\n",
       "</table>\n",
       "</div>"
      ],
      "text/plain": [
       "        date     amount  flow  activity\n",
       "0 2020-12-15  29.517702     2         2\n",
       "1 2020-12-20  15.000000     1         2"
      ]
     },
     "execution_count": 19,
     "metadata": {},
     "output_type": "execute_result"
    }
   ],
   "source": [
    "df_characterized = characterize(\n",
    "        dynamic_inventory_df,\n",
    "        metric=\"GTP\", \n",
    "        characterization_function_dict={\n",
    "            1: characterize_co2,\n",
    "            2: characterize_ch4,\n",
    "        },\n",
    "        time_horizon=100, #years\n",
    "    )\n",
    "\n",
    "df_characterized #[kg CO2-eq]"
   ]
  }
 ],
 "metadata": {
  "kernelspec": {
   "display_name": "timex_temporalis_local",
   "language": "python",
   "name": "python3"
  },
  "language_info": {
   "codemirror_mode": {
    "name": "ipython",
    "version": 3
   },
   "file_extension": ".py",
   "mimetype": "text/x-python",
   "name": "python",
   "nbconvert_exporter": "python",
   "pygments_lexer": "ipython3",
   "version": "3.12.3"
  }
 },
 "nbformat": 4,
 "nbformat_minor": 4
}
